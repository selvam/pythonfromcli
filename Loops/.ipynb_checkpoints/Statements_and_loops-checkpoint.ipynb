{
 "cells": [
  {
   "cell_type": "markdown",
   "metadata": {},
   "source": [
    "# Usage of IF "
   ]
  },
  {
   "cell_type": "code",
   "execution_count": 1,
   "metadata": {},
   "outputs": [],
   "source": [
    "userName = 'selvam'"
   ]
  },
  {
   "cell_type": "code",
   "execution_count": 2,
   "metadata": {},
   "outputs": [
    {
     "name": "stdout",
     "output_type": "stream",
     "text": [
      "Welcome Selvam\n"
     ]
    }
   ],
   "source": [
    "if userName == 'selvam' :\n",
    "    print(\"Welcome Selvam\")\n",
    "else :\n",
    "    print(\"Your name is invalid\")"
   ]
  },
  {
   "cell_type": "code",
   "execution_count": 3,
   "metadata": {},
   "outputs": [],
   "source": [
    "userName = 'Selvam'"
   ]
  },
  {
   "cell_type": "code",
   "execution_count": 4,
   "metadata": {},
   "outputs": [
    {
     "name": "stdout",
     "output_type": "stream",
     "text": [
      "Your name is invalid\n"
     ]
    }
   ],
   "source": [
    "if userName == 'selvam' :\n",
    "    print(\"Welcome Selvam\")\n",
    "else :\n",
    "    print(\"Your name is invalid\")"
   ]
  },
  {
   "cell_type": "code",
   "execution_count": 5,
   "metadata": {},
   "outputs": [
    {
     "name": "stdout",
     "output_type": "stream",
     "text": [
      "Your name is invalid\n"
     ]
    }
   ],
   "source": [
    "if userName == 'selvam' :\n",
    "    print(\"Welcome Selvam\")\n",
    "elif userName == 'Nisha' :\n",
    "    print(\"Hi Nisha \")\n",
    "else :\n",
    "    print(\"Your name is invalid\")"
   ]
  },
  {
   "cell_type": "code",
   "execution_count": 6,
   "metadata": {},
   "outputs": [],
   "source": [
    "userName = 'Nisha'"
   ]
  },
  {
   "cell_type": "code",
   "execution_count": 7,
   "metadata": {},
   "outputs": [
    {
     "name": "stdout",
     "output_type": "stream",
     "text": [
      "Hi Nisha \n"
     ]
    }
   ],
   "source": [
    "if userName == 'selvam' :\n",
    "    print(\"Welcome Selvam\")\n",
    "elif userName == 'Nisha' :\n",
    "    print(\"Hi Nisha \")\n",
    "else :\n",
    "    print(\"Your name is invalid\")"
   ]
  },
  {
   "cell_type": "markdown",
   "metadata": {},
   "source": [
    "# For Loops"
   ]
  },
  {
   "cell_type": "code",
   "execution_count": 8,
   "metadata": {},
   "outputs": [],
   "source": [
    "names = ['selvam','suresh','sundar','Sundar-pichai']"
   ]
  },
  {
   "cell_type": "code",
   "execution_count": 9,
   "metadata": {},
   "outputs": [
    {
     "name": "stdout",
     "output_type": "stream",
     "text": [
      "selvam\n",
      "suresh\n",
      "sundar\n",
      "Sundar-pichai\n"
     ]
    }
   ],
   "source": [
    "for name in names:\n",
    "    print(name)"
   ]
  },
  {
   "cell_type": "code",
   "execution_count": 12,
   "metadata": {},
   "outputs": [
    {
     "name": "stdout",
     "output_type": "stream",
     "text": [
      "selvam\n",
      "suresh\n",
      "sundar\n",
      "Sundar-pichai\n"
     ]
    }
   ],
   "source": [
    "for name in names:\n",
    "    print(''.join(name))"
   ]
  },
  {
   "cell_type": "code",
   "execution_count": 21,
   "metadata": {},
   "outputs": [],
   "source": [
    "allnum = [1,2,3,4,5]"
   ]
  },
  {
   "cell_type": "code",
   "execution_count": 22,
   "metadata": {},
   "outputs": [
    {
     "name": "stdout",
     "output_type": "stream",
     "text": [
      "1 is odd\n",
      "2\n",
      "3 is odd\n",
      "4\n",
      "5 is odd\n"
     ]
    }
   ],
   "source": [
    "for no in allnum:\n",
    "    if no%2==0:\n",
    "        print(no)\n",
    "    else:\n",
    "        print(f\"{no} is odd\")"
   ]
  },
  {
   "cell_type": "code",
   "execution_count": 23,
   "metadata": {},
   "outputs": [
    {
     "name": "stdout",
     "output_type": "stream",
     "text": [
      "1 is odd\n",
      "2\n",
      "3 is odd\n",
      "4\n",
      "5 is odd\n",
      "6\n",
      "7 is odd\n",
      "8\n",
      "9 is odd\n"
     ]
    }
   ],
   "source": [
    "for no in range(1,10):\n",
    "    if no%2==0:\n",
    "        print(no)\n",
    "    else:\n",
    "        print(f\"{no} is odd\")"
   ]
  },
  {
   "cell_type": "markdown",
   "metadata": {},
   "source": [
    "# While Loops "
   ]
  },
  {
   "cell_type": "code",
   "execution_count": null,
   "metadata": {},
   "outputs": [],
   "source": []
  },
  {
   "cell_type": "code",
   "execution_count": null,
   "metadata": {},
   "outputs": [],
   "source": [
    "n = 0;\n",
    "while n<5:\n",
    "    print(f\"Current value of n is {n}\")\n",
    "    n+=1"
   ]
  },
  {
   "cell_type": "code",
   "execution_count": 28,
   "metadata": {},
   "outputs": [
    {
     "name": "stdout",
     "output_type": "stream",
     "text": [
      "current value 1\n",
      "current value 2\n",
      "current value 3\n"
     ]
    }
   ],
   "source": [
    "n=1;\n",
    "while n<4:\n",
    "    print(f\"current value {n}\")\n",
    "    n+=1"
   ]
  },
  {
   "cell_type": "code",
   "execution_count": 10,
   "metadata": {},
   "outputs": [
    {
     "name": "stdout",
     "output_type": "stream",
     "text": [
      "current value 1\n",
      "current value 2\n"
     ]
    }
   ],
   "source": [
    "n=1;\n",
    "while n<4:\n",
    "    print(f\"current value {n}\");\n",
    "    if n==2:\n",
    "        break;\n",
    "    n+=1"
   ]
  },
  {
   "cell_type": "code",
   "execution_count": 8,
   "metadata": {},
   "outputs": [
    {
     "name": "stdout",
     "output_type": "stream",
     "text": [
      "current value 1\n",
      "current value 2\n",
      "current value 3\n"
     ]
    }
   ],
   "source": [
    "n=1;\n",
    "while n<4:\n",
    "    print(f\"current value {n}\");    \n",
    "    n+=1;\n",
    "    if n==2:\n",
    "        continue;"
   ]
  },
  {
   "cell_type": "code",
   "execution_count": null,
   "metadata": {},
   "outputs": [],
   "source": [
    "n=1;\n",
    "while n<4:\n",
    "    pass"
   ]
  },
  {
   "cell_type": "code",
   "execution_count": null,
   "metadata": {},
   "outputs": [],
   "source": []
  },
  {
   "cell_type": "code",
   "execution_count": null,
   "metadata": {},
   "outputs": [],
   "source": []
  }
 ],
 "metadata": {
  "kernelspec": {
   "display_name": "Python 3",
   "language": "python",
   "name": "python3"
  },
  "language_info": {
   "codemirror_mode": {
    "name": "ipython",
    "version": 3
   },
   "file_extension": ".py",
   "mimetype": "text/x-python",
   "name": "python",
   "nbconvert_exporter": "python",
   "pygments_lexer": "ipython3",
   "version": "3.7.1"
  }
 },
 "nbformat": 4,
 "nbformat_minor": 2
}
