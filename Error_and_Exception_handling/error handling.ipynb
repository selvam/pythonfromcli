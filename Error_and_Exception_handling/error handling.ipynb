{
 "cells": [
  {
   "cell_type": "markdown",
   "metadata": {},
   "source": [
    "# try except"
   ]
  },
  {
   "cell_type": "code",
   "execution_count": 4,
   "metadata": {},
   "outputs": [
    {
     "name": "stdout",
     "output_type": "stream",
     "text": [
      "Content written successfully\n"
     ]
    }
   ],
   "source": [
    "try:\n",
    "    f = open(\"testfile.txt\",'w')\n",
    "    f.write(\"I am writing in write mode\")\n",
    "except IOError:\n",
    "    print(\"Unable to find file\")\n",
    "else:\n",
    "    f.close();\n",
    "    print(\"Content written successfully\")"
   ]
  },
  {
   "cell_type": "code",
   "execution_count": 3,
   "metadata": {},
   "outputs": [
    {
     "name": "stdout",
     "output_type": "stream",
     "text": [
      "Unable to find file\n"
     ]
    }
   ],
   "source": [
    "try:\n",
    "    f = open(\"testfilenew.txt\",'r')\n",
    "    f.write(\"I am writing in write mode\")\n",
    "except IOError:\n",
    "    print(\"Unable to find file\")\n",
    "else:\n",
    "    print(\"Content written successfully\")"
   ]
  },
  {
   "cell_type": "code",
   "execution_count": 7,
   "metadata": {},
   "outputs": [
    {
     "name": "stdout",
     "output_type": "stream",
     "text": [
      "I am starting finally\n"
     ]
    }
   ],
   "source": [
    "try:\n",
    "    f=open('testfile1.txt','w')\n",
    "    f.write('I am at FCS')\n",
    "    f.close();\n",
    "except:\n",
    "    print(\"I am at except block\")\n",
    "finally:\n",
    "    print(\"I am starting finally\");"
   ]
  },
  {
   "cell_type": "code",
   "execution_count": 8,
   "metadata": {},
   "outputs": [
    {
     "name": "stdout",
     "output_type": "stream",
     "text": [
      "I am at except block\n",
      "I am starting finally\n"
     ]
    }
   ],
   "source": [
    "try:\n",
    "    f=open('testfile1.txt','r')\n",
    "    f.write('I am at FCS')\n",
    "    f.close();\n",
    "except:\n",
    "    print(\"I am at except block\")\n",
    "finally:\n",
    "    print(\"I am starting finally\");"
   ]
  },
  {
   "cell_type": "code",
   "execution_count": 10,
   "metadata": {},
   "outputs": [
    {
     "name": "stdout",
     "output_type": "stream",
     "text": [
      "this is not an io error\n"
     ]
    }
   ],
   "source": [
    "try:\n",
    "    f = open(\"testfile.txt\",'w')\n",
    "    f.write(\"I am writing in write mode\")\n",
    "    0/0\n",
    "except IOError:\n",
    "    print(\"Unable to find file\")\n",
    "except:\n",
    "    print(\"this is not an io error\")\n",
    "else:\n",
    "    f.close();\n",
    "    print(\"Content written successfully\")"
   ]
  },
  {
   "cell_type": "code",
   "execution_count": null,
   "metadata": {},
   "outputs": [],
   "source": []
  },
  {
   "cell_type": "code",
   "execution_count": null,
   "metadata": {},
   "outputs": [],
   "source": []
  },
  {
   "cell_type": "code",
   "execution_count": null,
   "metadata": {},
   "outputs": [],
   "source": []
  }
 ],
 "metadata": {
  "kernelspec": {
   "display_name": "Python 3",
   "language": "python",
   "name": "python3"
  },
  "language_info": {
   "codemirror_mode": {
    "name": "ipython",
    "version": 3
   },
   "file_extension": ".py",
   "mimetype": "text/x-python",
   "name": "python",
   "nbconvert_exporter": "python",
   "pygments_lexer": "ipython3",
   "version": "3.7.1"
  }
 },
 "nbformat": 4,
 "nbformat_minor": 2
}
