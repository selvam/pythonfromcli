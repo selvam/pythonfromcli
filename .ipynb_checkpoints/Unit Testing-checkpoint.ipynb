{
 "cells": [
  {
   "cell_type": "code",
   "execution_count": 1,
   "metadata": {},
   "outputs": [
    {
     "name": "stdout",
     "output_type": "stream",
     "text": [
      "Requirement already satisfied: pylint in c:\\users\\lenovo\\anaconda3\\lib\\site-packages (2.2.2)\n",
      "Requirement already satisfied: astroid>=2.0.0 in c:\\users\\lenovo\\anaconda3\\lib\\site-packages (from pylint) (2.1.0)\n",
      "Requirement already satisfied: isort>=4.2.5 in c:\\users\\lenovo\\anaconda3\\lib\\site-packages (from pylint) (4.3.4)\n",
      "Requirement already satisfied: mccabe in c:\\users\\lenovo\\anaconda3\\lib\\site-packages (from pylint) (0.6.1)\n",
      "Requirement already satisfied: colorama in c:\\users\\lenovo\\anaconda3\\lib\\site-packages (from pylint) (0.4.1)\n",
      "Requirement already satisfied: lazy-object-proxy in c:\\users\\lenovo\\anaconda3\\lib\\site-packages (from astroid>=2.0.0->pylint) (1.3.1)\n",
      "Requirement already satisfied: six in c:\\users\\lenovo\\anaconda3\\lib\\site-packages (from astroid>=2.0.0->pylint) (1.12.0)\n",
      "Requirement already satisfied: wrapt in c:\\users\\lenovo\\anaconda3\\lib\\site-packages (from astroid>=2.0.0->pylint) (1.10.11)\n"
     ]
    }
   ],
   "source": [
    "! pip install pylint"
   ]
  },
  {
   "cell_type": "code",
   "execution_count": 30,
   "metadata": {},
   "outputs": [
    {
     "name": "stdout",
     "output_type": "stream",
     "text": [
      "Overwriting sample.py\n"
     ]
    }
   ],
   "source": [
    "%%writefile sample.py\n",
    "\"\"\" This code prints both values of A and B \"\"\"\n",
    "\n",
    "def print_number():\n",
    "    \"\"\" This code prints both values of A and B \"\"\"\n",
    "    num_one = 1\n",
    "    num_two = 2\n",
    "    print(num_one)\n",
    "    print(num_two)\n",
    "\n",
    "print_number()"
   ]
  },
  {
   "cell_type": "code",
   "execution_count": 32,
   "metadata": {},
   "outputs": [
    {
     "name": "stdout",
     "output_type": "stream",
     "text": [
      "\n",
      "--------------------------------------------------------------------\n",
      "\n",
      "Your code has been rated at 10.00/10 (previous run: 10.00/10, +0.00)\n",
      "\n",
      "\n",
      "\n"
     ]
    }
   ],
   "source": [
    "! pylint sample.py"
   ]
  },
  {
   "cell_type": "markdown",
   "metadata": {},
   "source": [
    "# Unit Test"
   ]
  },
  {
   "cell_type": "code",
   "execution_count": 65,
   "metadata": {},
   "outputs": [
    {
     "name": "stdout",
     "output_type": "stream",
     "text": [
      "Overwriting fcs.py\n"
     ]
    }
   ],
   "source": [
    "%%writefile fcs.py\n",
    "\n",
    "def fcs_text(text):\n",
    "    return text.title()"
   ]
  },
  {
   "cell_type": "code",
   "execution_count": 66,
   "metadata": {},
   "outputs": [
    {
     "name": "stdout",
     "output_type": "stream",
     "text": [
      "Overwriting test_fcs.py\n"
     ]
    }
   ],
   "source": [
    "%%writefile test_fcs.py\n",
    "\n",
    "import unittest\n",
    "import fcs\n",
    "\n",
    "class TestFcs(unittest.TestCase):\n",
    "    def test_one_word(self):\n",
    "        text = 'python'\n",
    "        result = fcs.fcs_text(text)\n",
    "        self.assertEqual(result,'Python')\n",
    "        \n",
    "    def test_multiple_word(self):\n",
    "        text = 'selvam pythonist'\n",
    "        result = fcs.fcs_text(text)\n",
    "        self.assertEqual(result,'Selvam Pythonist')\n",
    "\n",
    "if __name__ == '__main__':\n",
    "    unittest.main()"
   ]
  },
  {
   "cell_type": "code",
   "execution_count": 67,
   "metadata": {},
   "outputs": [
    {
     "data": {
      "text/plain": [
       "'__main__'"
      ]
     },
     "execution_count": 67,
     "metadata": {},
     "output_type": "execute_result"
    }
   ],
   "source": [
    "__name__"
   ]
  },
  {
   "cell_type": "code",
   "execution_count": 68,
   "metadata": {},
   "outputs": [
    {
     "name": "stderr",
     "output_type": "stream",
     "text": [
      "..\n",
      "----------------------------------------------------------------------\n",
      "Ran 2 tests in 0.000s\n",
      "\n",
      "OK\n"
     ]
    }
   ],
   "source": [
    "! python test_fcs.py"
   ]
  },
  {
   "cell_type": "markdown",
   "metadata": {},
   "source": [
    "# Assignment with error handling\n",
    "    "
   ]
  },
  {
   "cell_type": "code",
   "execution_count": 2,
   "metadata": {},
   "outputs": [],
   "source": [
    "# handle the exception thrown by the code\n",
    "\n",
    "# for i in ['a','b','c']:\n",
    "#     print(i**2)"
   ]
  },
  {
   "cell_type": "code",
   "execution_count": 6,
   "metadata": {},
   "outputs": [
    {
     "name": "stdout",
     "output_type": "stream",
     "text": [
      "Message : unsupported operand type(s) for ** or pow(): 'str' and 'int'\n"
     ]
    }
   ],
   "source": [
    "try:\n",
    "    for i in ['a','b','c']:\n",
    "        print(i**2)\n",
    "except Exception as e:\n",
    "    print(\"Message :\",e)"
   ]
  },
  {
   "cell_type": "code",
   "execution_count": null,
   "metadata": {},
   "outputs": [],
   "source": []
  }
 ],
 "metadata": {
  "kernelspec": {
   "display_name": "Python 3",
   "language": "python",
   "name": "python3"
  },
  "language_info": {
   "codemirror_mode": {
    "name": "ipython",
    "version": 3
   },
   "file_extension": ".py",
   "mimetype": "text/x-python",
   "name": "python",
   "nbconvert_exporter": "python",
   "pygments_lexer": "ipython3",
   "version": "3.7.1"
  }
 },
 "nbformat": 4,
 "nbformat_minor": 2
}
