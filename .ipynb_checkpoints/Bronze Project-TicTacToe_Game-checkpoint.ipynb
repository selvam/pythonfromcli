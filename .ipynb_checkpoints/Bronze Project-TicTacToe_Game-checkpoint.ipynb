{
 "cells": [
  {
   "cell_type": "markdown",
   "metadata": {},
   "source": [
    "# Bronze Project"
   ]
  },
  {
   "cell_type": "markdown",
   "metadata": {},
   "source": [
    "# Create a empty board"
   ]
  },
  {
   "cell_type": "code",
   "execution_count": 1,
   "metadata": {},
   "outputs": [],
   "source": [
    "def displayBoardEmpty():\n",
    "    print(\"  |  |  \");\n",
    "    print(\"--------\");\n",
    "    print(\"  |  |  \");\n",
    "    print(\"--------\");\n",
    "    print(\"  |  |  \");"
   ]
  },
  {
   "cell_type": "code",
   "execution_count": 2,
   "metadata": {},
   "outputs": [
    {
     "name": "stdout",
     "output_type": "stream",
     "text": [
      "  |  |  \n",
      "--------\n",
      "  |  |  \n",
      "--------\n",
      "  |  |  \n"
     ]
    }
   ],
   "source": [
    "displayBoardEmpty()"
   ]
  },
  {
   "cell_type": "code",
   "execution_count": 3,
   "metadata": {},
   "outputs": [],
   "source": [
    "boardIndex = [' ']*10"
   ]
  },
  {
   "cell_type": "code",
   "execution_count": 4,
   "metadata": {},
   "outputs": [],
   "source": [
    "boardIndex[0] = '-'"
   ]
  },
  {
   "cell_type": "code",
   "execution_count": 5,
   "metadata": {},
   "outputs": [
    {
     "data": {
      "text/plain": [
       "['-', ' ', ' ', ' ', ' ', ' ', ' ', ' ', ' ', ' ']"
      ]
     },
     "execution_count": 5,
     "metadata": {},
     "output_type": "execute_result"
    }
   ],
   "source": [
    "boardIndex"
   ]
  },
  {
   "cell_type": "code",
   "execution_count": 6,
   "metadata": {},
   "outputs": [],
   "source": [
    "from IPython.display import clear_output\n",
    "\n",
    "def displayBoard(boardIndex):\n",
    "    clear_output()\n",
    "    print(boardIndex[7]+\" | \"+boardIndex[8]+\" | \"+boardIndex[9]);\n",
    "    print(\"---------\");\n",
    "    print(boardIndex[4]+\" | \"+boardIndex[5]+\" | \"+boardIndex[6]);\n",
    "    print(\"---------\");\n",
    "    print(boardIndex[1]+\" | \"+boardIndex[2]+\" | \"+boardIndex[3]);"
   ]
  },
  {
   "cell_type": "code",
   "execution_count": 7,
   "metadata": {},
   "outputs": [
    {
     "name": "stdout",
     "output_type": "stream",
     "text": [
      "  |   |  \n",
      "---------\n",
      "  |   |  \n",
      "---------\n",
      "  |   |  \n"
     ]
    }
   ],
   "source": [
    "displayBoard(boardIndex)"
   ]
  },
  {
   "cell_type": "markdown",
   "metadata": {},
   "source": [
    "# Function to assign a marker to a player"
   ]
  },
  {
   "cell_type": "code",
   "execution_count": 8,
   "metadata": {},
   "outputs": [],
   "source": [
    "def assignMarkerToPlayer():\n",
    "    mark = '';\n",
    "    while mark not in ['x','o']:\n",
    "        mark = input(\"Player 1 Please enter your marker\");\n",
    "    \n",
    "    if mark.upper() == 'X':\n",
    "        return ('X','O')        \n",
    "    elif mark.upper() == 'O':\n",
    "        return ('O','X')"
   ]
  },
  {
   "cell_type": "code",
   "execution_count": 9,
   "metadata": {},
   "outputs": [
    {
     "name": "stdout",
     "output_type": "stream",
     "text": [
      "Player 1 Please enter your markerx\n"
     ]
    },
    {
     "data": {
      "text/plain": [
       "('X', 'O')"
      ]
     },
     "execution_count": 9,
     "metadata": {},
     "output_type": "execute_result"
    }
   ],
   "source": [
    "assignMarkerToPlayer()"
   ]
  },
  {
   "cell_type": "markdown",
   "metadata": {},
   "source": [
    "# Function to place the markers at the postion "
   ]
  },
  {
   "cell_type": "code",
   "execution_count": 10,
   "metadata": {},
   "outputs": [],
   "source": [
    "def assignMarkerPosition(boardIndex,marker,position):\n",
    "    if position in range(1,10):\n",
    "        boardIndex[position] = marker;\n",
    "    else:\n",
    "        print(\"Please enter position from 1-9\")"
   ]
  },
  {
   "cell_type": "code",
   "execution_count": 11,
   "metadata": {},
   "outputs": [],
   "source": [
    "#assignMarkerPosition(boardIndex,'o',4)"
   ]
  },
  {
   "cell_type": "code",
   "execution_count": 12,
   "metadata": {},
   "outputs": [
    {
     "name": "stdout",
     "output_type": "stream",
     "text": [
      "  |   |  \n",
      "---------\n",
      "  |   |  \n",
      "---------\n",
      "  |   |  \n"
     ]
    }
   ],
   "source": [
    "displayBoard(boardIndex)"
   ]
  },
  {
   "cell_type": "markdown",
   "metadata": {},
   "source": [
    "# Write a function that takes a board and check if someone won"
   ]
  },
  {
   "cell_type": "code",
   "execution_count": 13,
   "metadata": {},
   "outputs": [],
   "source": [
    "def checkWinner(boardIndex,marker):\n",
    "    return((boardIndex[1] == marker and boardIndex[2] == marker and boardIndex[3] == marker) or\n",
    "           (boardIndex[4] == marker and boardIndex[5] == marker and boardIndex[6] == marker) or\n",
    "           (boardIndex[7] == marker and boardIndex[8] == marker and boardIndex[9] == marker) or\n",
    "           (boardIndex[1] == marker and boardIndex[4] == marker and boardIndex[7] == marker) or\n",
    "           (boardIndex[3] == marker and boardIndex[6] == marker and boardIndex[9] == marker) or\n",
    "           (boardIndex[1] == marker and boardIndex[5] == marker and boardIndex[9] == marker) or\n",
    "           (boardIndex[2] == marker and boardIndex[5] == marker and boardIndex[8] == marker) or\n",
    "           (boardIndex[3] == marker and boardIndex[5] == marker and boardIndex[7] == marker))"
   ]
  },
  {
   "cell_type": "code",
   "execution_count": 14,
   "metadata": {},
   "outputs": [
    {
     "data": {
      "text/plain": [
       "False"
      ]
     },
     "execution_count": 14,
     "metadata": {},
     "output_type": "execute_result"
    }
   ],
   "source": [
    "checkWinner(boardIndex,'x')"
   ]
  },
  {
   "cell_type": "markdown",
   "metadata": {},
   "source": [
    "# Assign First player Random"
   ]
  },
  {
   "cell_type": "code",
   "execution_count": null,
   "metadata": {},
   "outputs": [],
   "source": [
    "import random\n",
    "\n",
    "def choosePlayerOne():\n",
    "    if random.randint(0,1) == 0:\n",
    "        return 0;\n",
    "    else:\n",
    "        return 1;"
   ]
  },
  {
   "cell_type": "code",
   "execution_count": null,
   "metadata": {},
   "outputs": [
    {
     "data": {
      "text/plain": [
       "0"
      ]
     },
     "execution_count": 16,
     "metadata": {},
     "output_type": "execute_result"
    }
   ],
   "source": [
    "choosePlayerOne()"
   ]
  },
  {
   "cell_type": "markdown",
   "metadata": {},
   "source": [
    "# Write a function to check a free space in block"
   ]
  },
  {
   "cell_type": "code",
   "execution_count": null,
   "metadata": {},
   "outputs": [],
   "source": [
    "def checkEmptyBlock(boardIndex,position):\n",
    "    return boardIndex[position] == ' '"
   ]
  },
  {
   "cell_type": "code",
   "execution_count": null,
   "metadata": {},
   "outputs": [
    {
     "data": {
      "text/plain": [
       "True"
      ]
     },
     "execution_count": 18,
     "metadata": {},
     "output_type": "execute_result"
    }
   ],
   "source": [
    "checkEmptyBlock(boardIndex,1)"
   ]
  },
  {
   "cell_type": "markdown",
   "metadata": {},
   "source": [
    "# Write a function to check the board is full or not"
   ]
  },
  {
   "cell_type": "code",
   "execution_count": null,
   "metadata": {},
   "outputs": [],
   "source": [
    "def checkBoardFull(boardIndex):\n",
    "    return not ' ' in boardIndex;"
   ]
  },
  {
   "cell_type": "code",
   "execution_count": null,
   "metadata": {},
   "outputs": [
    {
     "data": {
      "text/plain": [
       "False"
      ]
     },
     "execution_count": 20,
     "metadata": {},
     "output_type": "execute_result"
    }
   ],
   "source": [
    "checkBoardFull(boardIndex)"
   ]
  },
  {
   "cell_type": "markdown",
   "metadata": {},
   "source": [
    "# Write a function that asks player's next position if the position is free, return position"
   ]
  },
  {
   "cell_type": "code",
   "execution_count": null,
   "metadata": {},
   "outputs": [],
   "source": [
    "def askPlayerNextPosition(boardIndex,position):\n",
    "    if position > 0 and position < 10:\n",
    "        checkPosition = checkEmptyBlock(boardIndex,position);\n",
    "        if checkPosition:\n",
    "            return position;\n",
    "    else:\n",
    "        return False;        "
   ]
  },
  {
   "cell_type": "code",
   "execution_count": null,
   "metadata": {},
   "outputs": [
    {
     "data": {
      "text/plain": [
       "2"
      ]
     },
     "execution_count": 22,
     "metadata": {},
     "output_type": "execute_result"
    }
   ],
   "source": [
    "askPlayerNextPosition(boardIndex,2)"
   ]
  },
  {
   "cell_type": "code",
   "execution_count": null,
   "metadata": {},
   "outputs": [],
   "source": [
    "assignMarkerPosition(boardIndex,'o',1)"
   ]
  },
  {
   "cell_type": "code",
   "execution_count": null,
   "metadata": {},
   "outputs": [
    {
     "name": "stdout",
     "output_type": "stream",
     "text": [
      "  |   |  \n",
      "---------\n",
      "  |   |  \n",
      "---------\n",
      "o |   |  \n"
     ]
    }
   ],
   "source": [
    "displayBoard(boardIndex)"
   ]
  },
  {
   "cell_type": "code",
   "execution_count": null,
   "metadata": {},
   "outputs": [],
   "source": [
    "askPlayerNextPosition(boardIndex,1)"
   ]
  },
  {
   "cell_type": "code",
   "execution_count": null,
   "metadata": {},
   "outputs": [],
   "source": [
    "def askPlayerName():\n",
    "    playerOne = input(\"Player One Name \");\n",
    "    playerTwo = input(\"Player two Name \");\n",
    "    return (playerOne,playerTwo)"
   ]
  },
  {
   "cell_type": "code",
   "execution_count": null,
   "metadata": {},
   "outputs": [
    {
     "name": "stdout",
     "output_type": "stream",
     "text": [
      "Player One Name selvam\n",
      "Player two Name Sundar\n"
     ]
    },
    {
     "data": {
      "text/plain": [
       "('selvam', 'Sundar')"
      ]
     },
     "execution_count": 27,
     "metadata": {},
     "output_type": "execute_result"
    }
   ],
   "source": [
    "askPlayerName()"
   ]
  },
  {
   "cell_type": "code",
   "execution_count": null,
   "metadata": {},
   "outputs": [],
   "source": []
  },
  {
   "cell_type": "markdown",
   "metadata": {},
   "source": [
    "# ask player new position"
   ]
  },
  {
   "cell_type": "code",
   "execution_count": null,
   "metadata": {},
   "outputs": [],
   "source": [
    "def askPlayerNewPostion(boardIndex,turn,marker):\n",
    "    position = 0;\n",
    "    promptMessage = \"{} - ({}) , your turn now \".format(turn,marker);\n",
    "    while position not in [1,2,3,4,5,6,7,8,9] or not checkEmptyBlock(boardIndex,position):\n",
    "        position = int(input(promptMessage))\n",
    "    return position;"
   ]
  },
  {
   "cell_type": "code",
   "execution_count": null,
   "metadata": {},
   "outputs": [
    {
     "name": "stdout",
     "output_type": "stream",
     "text": [
      "player 1 - (x) , your turn now 2\n"
     ]
    },
    {
     "data": {
      "text/plain": [
       "2"
      ]
     },
     "execution_count": 29,
     "metadata": {},
     "output_type": "execute_result"
    }
   ],
   "source": [
    "askPlayerNewPostion(boardIndex,'player 1','x')"
   ]
  },
  {
   "cell_type": "code",
   "execution_count": null,
   "metadata": {},
   "outputs": [],
   "source": [
    "def askPlayAgain():\n",
    "    return input(\"Do you want to play again ? y or n\").lower().startswith('y');"
   ]
  },
  {
   "cell_type": "code",
   "execution_count": null,
   "metadata": {},
   "outputs": [
    {
     "name": "stdout",
     "output_type": "stream",
     "text": [
      "Do you want to play again ? y or ny\n"
     ]
    },
    {
     "data": {
      "text/plain": [
       "True"
      ]
     },
     "execution_count": 31,
     "metadata": {},
     "output_type": "execute_result"
    }
   ],
   "source": [
    "askPlayAgain()"
   ]
  },
  {
   "cell_type": "markdown",
   "metadata": {},
   "source": [
    "# Final Assembly"
   ]
  },
  {
   "cell_type": "code",
   "execution_count": null,
   "metadata": {},
   "outputs": [],
   "source": [
    "print(\"Welcome to Tic-Tac\");\n",
    "\n",
    "while True:\n",
    "    boardIndex = [' ']*10;\n",
    "    boardIndex[0] = '-';\n",
    "    playerOneMarker , playerTwoMarker = assignMarkerToPlayer();\n",
    "    turn = choosePlayerOne();\n",
    "    playerNames = askPlayerName();\n",
    "    \n",
    "    print(playerNames[turn]+\" Will go now\");\n",
    "    \n",
    "    playGame = input(\"Are you ready ? y or n\");\n",
    "    \n",
    "    if playGame == 'y':\n",
    "        game_on = True;\n",
    "    else:        \n",
    "        game_on = False;\n",
    "        \n",
    "    while game_on:\n",
    "        if turn == 0:\n",
    "            displayBoard(boardIndex);\n",
    "            position = askPlayerNewPostion(boardIndex,playerNames[turn],playerOneMarker);\n",
    "            assignMarkerPosition(boardIndex,playerOneMarker,position);\n",
    "            \n",
    "            if checkWinner(boardIndex,playerOneMarker):\n",
    "                displayBoard(boardIndex);\n",
    "                print(playerNames[turn]+\" Congrats ! you won\");\n",
    "                game_on = False;\n",
    "            else:\n",
    "                if checkBoardFull(boardIndex):\n",
    "                    displayBoard(boardIndex);\n",
    "                    print(\"Game Draws\");\n",
    "                    break;\n",
    "                else:\n",
    "                    turn = 1;\n",
    "        else:\n",
    "            displayBoard(boardIndex);\n",
    "            position = askPlayerNewPostion(boardIndex,playerNames[turn],playerTwoMarker);\n",
    "            assignMarkerPosition(boardIndex,playerTwoMarker,position);\n",
    "            \n",
    "            if checkWinner(boardIndex,playerTwoMarker):\n",
    "                displayBoard(boardIndex);\n",
    "                print(playerNames[turn]+\" Awesome you Won\");\n",
    "                game_on = False;\n",
    "            else:\n",
    "                if checkBoardFull(boardIndex):\n",
    "                    displayBoard(boardIndex);\n",
    "                    print(\"Game Draws\");\n",
    "                    break;\n",
    "                else:\n",
    "                    turn = 0;\n",
    "                    \n",
    "if not askPlayAgain():\n",
    "    break;\n",
    "             "
   ]
  },
  {
   "cell_type": "code",
   "execution_count": null,
   "metadata": {},
   "outputs": [],
   "source": []
  },
  {
   "cell_type": "code",
   "execution_count": null,
   "metadata": {},
   "outputs": [],
   "source": []
  },
  {
   "cell_type": "code",
   "execution_count": null,
   "metadata": {},
   "outputs": [],
   "source": []
  },
  {
   "cell_type": "code",
   "execution_count": null,
   "metadata": {},
   "outputs": [],
   "source": []
  }
 ],
 "metadata": {
  "kernelspec": {
   "display_name": "Python 3",
   "language": "python",
   "name": "python3"
  },
  "language_info": {
   "codemirror_mode": {
    "name": "ipython",
    "version": 3
   },
   "file_extension": ".py",
   "mimetype": "text/x-python",
   "name": "python",
   "nbconvert_exporter": "python",
   "pygments_lexer": "ipython3",
   "version": "3.7.1"
  }
 },
 "nbformat": 4,
 "nbformat_minor": 2
}
